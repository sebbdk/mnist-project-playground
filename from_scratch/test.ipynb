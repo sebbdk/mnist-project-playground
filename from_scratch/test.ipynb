{
 "cells": [
  {
   "cell_type": "code",
   "execution_count": 13,
   "metadata": {},
   "outputs": [],
   "source": [
    "%reset -f\n",
    "\n",
    "import mnist_loader\n",
    "import network2 as network\n",
    "import numpy as np\n",
    "import pathlib\n",
    "import os\n",
    "import tools\n",
    "import time"
   ]
  },
  {
   "cell_type": "code",
   "execution_count": 14,
   "metadata": {},
   "outputs": [
    {
     "data": {
      "text/plain": [
       "'/Users/vargr/dev/projects/dtu/is_project/from_scratch/mnist/data/mnist.pkl.gz'"
      ]
     },
     "execution_count": 14,
     "metadata": {},
     "output_type": "execute_result"
    }
   ],
   "source": [
    "basePath = os.path.abspath('')\n",
    "dataPath = basePath + '/mnist/data/mnist.pkl.gz';\n",
    "dataPath"
   ]
  },
  {
   "cell_type": "code",
   "execution_count": 15,
   "metadata": {},
   "outputs": [],
   "source": [
    "# Load data\n",
    "training_data, validation_data, test_data = mnist_loader.load_data_wrapper(dataPath)\n",
    "\n",
    "# Use custom loader instead:\n",
    "#training_data, validation_data, test_data = mnist_loader.load_data_wrapper_pickled()"
   ]
  },
  {
   "cell_type": "code",
   "execution_count": 16,
   "metadata": {},
   "outputs": [],
   "source": [
    "def npRelu(x):\n",
    "    return np.where(x > 0, x, 0)\n",
    "\n",
    "def reluPrime(x):\n",
    "    return np.where(x >= 0, 1, 0.01)"
   ]
  },
  {
   "cell_type": "code",
   "execution_count": 17,
   "metadata": {},
   "outputs": [],
   "source": [
    "net = network.Network([784, 512, 10], acti=npRelu, actiPrime=reluPrime)"
   ]
  },
  {
   "cell_type": "code",
   "execution_count": 18,
   "metadata": {},
   "outputs": [
    {
     "name": "stdout",
     "output_type": "stream",
     "text": [
      "started rep 0/33\n"
     ]
    },
    {
     "name": "stderr",
     "output_type": "stream",
     "text": [
      "/Users/vargr/dev/projects/dtu/is_project/from_scratch/network2.py:134: RuntimeWarning: invalid value encountered in subtract\n",
      "  self.biases = [b-(eta/len(mini_batch))*nb\n"
     ]
    },
    {
     "name": "stdout",
     "output_type": "stream",
     "text": [
      "Epoch 1/30: 980 / 10000\n",
      "Epoch 2/30: 980 / 10000\n",
      "Epoch 3/30: 980 / 10000\n",
      "Epoch 4/30: 980 / 10000\n",
      "Epoch 5/30: 980 / 10000\n",
      "Epoch 6/30: 980 / 10000\n",
      "Epoch 7/30: 980 / 10000\n",
      "Epoch 8/30: 980 / 10000\n",
      "Epoch 9/30: 980 / 10000\n",
      "Epoch 10/30: 980 / 10000\n",
      "Epoch 11/30: 980 / 10000\n",
      "Epoch 12/30: 980 / 10000\n",
      "Epoch 13/30: 980 / 10000\n",
      "Epoch 14/30: 980 / 10000\n",
      "Epoch 15/30: 980 / 10000\n"
     ]
    },
    {
     "ename": "KeyboardInterrupt",
     "evalue": "",
     "output_type": "error",
     "traceback": [
      "\u001b[0;31m---------------------------------------------------------------------------\u001b[0m",
      "\u001b[0;31mKeyboardInterrupt\u001b[0m                         Traceback (most recent call last)",
      "Cell \u001b[0;32mIn[18], line 12\u001b[0m\n\u001b[1;32m      8\u001b[0m repeats \u001b[38;5;241m=\u001b[39m \u001b[38;5;241m33\u001b[39m\n\u001b[1;32m     11\u001b[0m \u001b[38;5;66;03m# Start training\u001b[39;00m\n\u001b[0;32m---> 12\u001b[0m logs \u001b[38;5;241m=\u001b[39m \u001b[43mnet\u001b[49m\u001b[38;5;241;43m.\u001b[39;49m\u001b[43mSGD\u001b[49m\u001b[43m(\u001b[49m\u001b[43mtraining_data\u001b[49m\u001b[43m,\u001b[49m\u001b[43m \u001b[49m\u001b[43mepoch\u001b[49m\u001b[43m,\u001b[49m\u001b[43m \u001b[49m\u001b[43mbatch_size\u001b[49m\u001b[43m,\u001b[49m\u001b[43m \u001b[49m\u001b[43mlearning_rate\u001b[49m\u001b[43m,\u001b[49m\u001b[43m \u001b[49m\u001b[43mtest_data\u001b[49m\u001b[38;5;241;43m=\u001b[39;49m\u001b[43mtest_data\u001b[49m\u001b[43m,\u001b[49m\u001b[43m \u001b[49m\u001b[43mdebug\u001b[49m\u001b[38;5;241;43m=\u001b[39;49m\u001b[38;5;28;43;01mTrue\u001b[39;49;00m\u001b[43m,\u001b[49m\u001b[43m \u001b[49m\u001b[43mrepeats\u001b[49m\u001b[38;5;241;43m=\u001b[39;49m\u001b[43mrepeats\u001b[49m\u001b[43m)\u001b[49m\n\u001b[1;32m     14\u001b[0m \u001b[38;5;28mprint\u001b[39m(time\u001b[38;5;241m.\u001b[39mtime() \u001b[38;5;241m-\u001b[39m t)\n\u001b[1;32m     16\u001b[0m epoch_pro \u001b[38;5;241m=\u001b[39m logs[\u001b[38;5;241m0\u001b[39m]\n",
      "File \u001b[0;32m~/dev/projects/dtu/is_project/from_scratch/network2.py:100\u001b[0m, in \u001b[0;36mNetwork.SGD\u001b[0;34m(self, training_data, epochs, mini_batch_size, eta, test_data, debug, repeats)\u001b[0m\n\u001b[1;32m     96\u001b[0m mini_batches \u001b[38;5;241m=\u001b[39m [\n\u001b[1;32m     97\u001b[0m     training_data[k:k\u001b[38;5;241m+\u001b[39mmini_batch_size]\n\u001b[1;32m     98\u001b[0m     \u001b[38;5;28;01mfor\u001b[39;00m k \u001b[38;5;129;01min\u001b[39;00m \u001b[38;5;28mrange\u001b[39m(\u001b[38;5;241m0\u001b[39m, n, mini_batch_size)]\n\u001b[1;32m     99\u001b[0m \u001b[38;5;28;01mfor\u001b[39;00m mini_batch \u001b[38;5;129;01min\u001b[39;00m mini_batches:\n\u001b[0;32m--> 100\u001b[0m     \u001b[38;5;28;43mself\u001b[39;49m\u001b[38;5;241;43m.\u001b[39;49m\u001b[43mupdate_mini_batch\u001b[49m\u001b[43m(\u001b[49m\u001b[43mmini_batch\u001b[49m\u001b[43m,\u001b[49m\u001b[43m \u001b[49m\u001b[43meta\u001b[49m\u001b[43m)\u001b[49m\n\u001b[1;32m    102\u001b[0m \u001b[38;5;28;01mif\u001b[39;00m debug \u001b[38;5;129;01mand\u001b[39;00m test_data \u001b[38;5;241m!=\u001b[39m \u001b[38;5;28;01mNone\u001b[39;00m:\n\u001b[1;32m    103\u001b[0m     deltaTime \u001b[38;5;241m=\u001b[39m time\u001b[38;5;241m.\u001b[39mtime() \u001b[38;5;241m-\u001b[39m t\n",
      "File \u001b[0;32m~/dev/projects/dtu/is_project/from_scratch/network2.py:131\u001b[0m, in \u001b[0;36mNetwork.update_mini_batch\u001b[0;34m(self, mini_batch, eta)\u001b[0m\n\u001b[1;32m    129\u001b[0m     delta_nabla_b, delta_nabla_w \u001b[38;5;241m=\u001b[39m \u001b[38;5;28mself\u001b[39m\u001b[38;5;241m.\u001b[39mbackprop(x, y)\n\u001b[1;32m    130\u001b[0m     nabla_b \u001b[38;5;241m=\u001b[39m [nb\u001b[38;5;241m+\u001b[39mdnb \u001b[38;5;28;01mfor\u001b[39;00m nb, dnb \u001b[38;5;129;01min\u001b[39;00m \u001b[38;5;28mzip\u001b[39m(nabla_b, delta_nabla_b)]\n\u001b[0;32m--> 131\u001b[0m     nabla_w \u001b[38;5;241m=\u001b[39m \u001b[43m[\u001b[49m\u001b[43mnw\u001b[49m\u001b[38;5;241;43m+\u001b[39;49m\u001b[43mdnw\u001b[49m\u001b[43m \u001b[49m\u001b[38;5;28;43;01mfor\u001b[39;49;00m\u001b[43m \u001b[49m\u001b[43mnw\u001b[49m\u001b[43m,\u001b[49m\u001b[43m \u001b[49m\u001b[43mdnw\u001b[49m\u001b[43m \u001b[49m\u001b[38;5;129;43;01min\u001b[39;49;00m\u001b[43m \u001b[49m\u001b[38;5;28;43mzip\u001b[39;49m\u001b[43m(\u001b[49m\u001b[43mnabla_w\u001b[49m\u001b[43m,\u001b[49m\u001b[43m \u001b[49m\u001b[43mdelta_nabla_w\u001b[49m\u001b[43m)\u001b[49m\u001b[43m]\u001b[49m\n\u001b[1;32m    132\u001b[0m \u001b[38;5;28mself\u001b[39m\u001b[38;5;241m.\u001b[39mweights \u001b[38;5;241m=\u001b[39m [w\u001b[38;5;241m-\u001b[39m(eta\u001b[38;5;241m/\u001b[39m\u001b[38;5;28mlen\u001b[39m(mini_batch))\u001b[38;5;241m*\u001b[39mnw\n\u001b[1;32m    133\u001b[0m                 \u001b[38;5;28;01mfor\u001b[39;00m w, nw \u001b[38;5;129;01min\u001b[39;00m \u001b[38;5;28mzip\u001b[39m(\u001b[38;5;28mself\u001b[39m\u001b[38;5;241m.\u001b[39mweights, nabla_w)]\n\u001b[1;32m    134\u001b[0m \u001b[38;5;28mself\u001b[39m\u001b[38;5;241m.\u001b[39mbiases \u001b[38;5;241m=\u001b[39m [b\u001b[38;5;241m-\u001b[39m(eta\u001b[38;5;241m/\u001b[39m\u001b[38;5;28mlen\u001b[39m(mini_batch))\u001b[38;5;241m*\u001b[39mnb\n\u001b[1;32m    135\u001b[0m                \u001b[38;5;28;01mfor\u001b[39;00m b, nb \u001b[38;5;129;01min\u001b[39;00m \u001b[38;5;28mzip\u001b[39m(\u001b[38;5;28mself\u001b[39m\u001b[38;5;241m.\u001b[39mbiases, nabla_b)]\n",
      "File \u001b[0;32m~/dev/projects/dtu/is_project/from_scratch/network2.py:131\u001b[0m, in \u001b[0;36m<listcomp>\u001b[0;34m(.0)\u001b[0m\n\u001b[1;32m    129\u001b[0m     delta_nabla_b, delta_nabla_w \u001b[38;5;241m=\u001b[39m \u001b[38;5;28mself\u001b[39m\u001b[38;5;241m.\u001b[39mbackprop(x, y)\n\u001b[1;32m    130\u001b[0m     nabla_b \u001b[38;5;241m=\u001b[39m [nb\u001b[38;5;241m+\u001b[39mdnb \u001b[38;5;28;01mfor\u001b[39;00m nb, dnb \u001b[38;5;129;01min\u001b[39;00m \u001b[38;5;28mzip\u001b[39m(nabla_b, delta_nabla_b)]\n\u001b[0;32m--> 131\u001b[0m     nabla_w \u001b[38;5;241m=\u001b[39m [nw\u001b[38;5;241m+\u001b[39mdnw \u001b[38;5;28;01mfor\u001b[39;00m nw, dnw \u001b[38;5;129;01min\u001b[39;00m \u001b[38;5;28mzip\u001b[39m(nabla_w, delta_nabla_w)]\n\u001b[1;32m    132\u001b[0m \u001b[38;5;28mself\u001b[39m\u001b[38;5;241m.\u001b[39mweights \u001b[38;5;241m=\u001b[39m [w\u001b[38;5;241m-\u001b[39m(eta\u001b[38;5;241m/\u001b[39m\u001b[38;5;28mlen\u001b[39m(mini_batch))\u001b[38;5;241m*\u001b[39mnw\n\u001b[1;32m    133\u001b[0m                 \u001b[38;5;28;01mfor\u001b[39;00m w, nw \u001b[38;5;129;01min\u001b[39;00m \u001b[38;5;28mzip\u001b[39m(\u001b[38;5;28mself\u001b[39m\u001b[38;5;241m.\u001b[39mweights, nabla_w)]\n\u001b[1;32m    134\u001b[0m \u001b[38;5;28mself\u001b[39m\u001b[38;5;241m.\u001b[39mbiases \u001b[38;5;241m=\u001b[39m [b\u001b[38;5;241m-\u001b[39m(eta\u001b[38;5;241m/\u001b[39m\u001b[38;5;28mlen\u001b[39m(mini_batch))\u001b[38;5;241m*\u001b[39mnb\n\u001b[1;32m    135\u001b[0m                \u001b[38;5;28;01mfor\u001b[39;00m b, nb \u001b[38;5;129;01min\u001b[39;00m \u001b[38;5;28mzip\u001b[39m(\u001b[38;5;28mself\u001b[39m\u001b[38;5;241m.\u001b[39mbiases, nabla_b)]\n",
      "\u001b[0;31mKeyboardInterrupt\u001b[0m: "
     ]
    }
   ],
   "source": [
    "t = time.time()\n",
    "\n",
    "name = \"test_data\"\n",
    "epoch = 30\n",
    "learning_rate = 0.019\n",
    "loss = \"MSE\"\n",
    "batch_size = 10\n",
    "repeats = 33\n",
    "\n",
    "\n",
    "# Start training\n",
    "logs = net.SGD(training_data, epoch, batch_size, learning_rate, test_data=test_data, debug=True, repeats=repeats)\n",
    "\n",
    "print(time.time() - t)\n",
    "\n",
    "epoch_pro = logs[0]\n",
    "epoch_performance = logs[1]\n",
    "\n",
    "tools.saveResult(epoch,learning_rate,loss,batch_size,epoch_pro,epoch_performance,name)"
   ]
  }
 ],
 "metadata": {
  "kernelspec": {
   "display_name": ".venv",
   "language": "python",
   "name": "python3"
  },
  "language_info": {
   "codemirror_mode": {
    "name": "ipython",
    "version": 3
   },
   "file_extension": ".py",
   "mimetype": "text/x-python",
   "name": "python",
   "nbconvert_exporter": "python",
   "pygments_lexer": "ipython3",
   "version": "3.11.5"
  }
 },
 "nbformat": 4,
 "nbformat_minor": 2
}
