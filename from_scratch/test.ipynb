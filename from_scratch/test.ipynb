{
 "cells": [
  {
   "cell_type": "code",
   "execution_count": 14,
   "metadata": {},
   "outputs": [],
   "source": [
    "import mnist_loader\n",
    "import network2 as network\n",
    "import numpy as np\n",
    "import pathlib\n",
    "import os"
   ]
  },
  {
   "cell_type": "code",
   "execution_count": 15,
   "metadata": {},
   "outputs": [
    {
     "data": {
      "text/plain": [
       "'/Users/vargr/dev/projects/dtu/is_project/from_scratch/mnist/data/mnist.pkl.gz'"
      ]
     },
     "execution_count": 15,
     "metadata": {},
     "output_type": "execute_result"
    }
   ],
   "source": [
    "basePath = os.path.abspath('')\n",
    "dataPath = basePath + '/mnist/data/mnist.pkl.gz';\n",
    "dataPath"
   ]
  },
  {
   "cell_type": "code",
   "execution_count": 16,
   "metadata": {},
   "outputs": [],
   "source": [
    "# Load data\n",
    "training_data, validation_data, test_data = mnist_loader.load_data_wrapper(dataPath)\n",
    "\n",
    "# Use custom loader instead:\n",
    "#training_data, validation_data, test_data = mnist_loader.load_data_wrapper_pickled()"
   ]
  },
  {
   "cell_type": "code",
   "execution_count": 17,
   "metadata": {},
   "outputs": [],
   "source": [
    "def npRelu(x):\n",
    "    return np.where(x > 0, x, 0)\n",
    "\n",
    "def reluPrime(x):\n",
    "    return np.where(x >= 0, 1, 0.01)"
   ]
  },
  {
   "cell_type": "code",
   "execution_count": 18,
   "metadata": {},
   "outputs": [],
   "source": [
    "net = network.Network([784, 32, 10], acti=npRelu, actiPrime=reluPrime)"
   ]
  },
  {
   "cell_type": "code",
   "execution_count": 19,
   "metadata": {},
   "outputs": [
    {
     "name": "stdout",
     "output_type": "stream",
     "text": [
      "Epoch 1/500: 986 / 10000\n",
      "Epoch 2/500: 1011 / 10000\n"
     ]
    }
   ],
   "source": [
    "# Start training\n",
    "net.SGD(training_data, 500, 10, 0.01, test_data=test_data, debug=True)"
   ]
  }
 ],
 "metadata": {
  "kernelspec": {
   "display_name": ".venv",
   "language": "python",
   "name": "python3"
  },
  "language_info": {
   "codemirror_mode": {
    "name": "ipython",
    "version": 3
   },
   "file_extension": ".py",
   "mimetype": "text/x-python",
   "name": "python",
   "nbconvert_exporter": "python",
   "pygments_lexer": "ipython3",
   "version": "3.11.5"
  }
 },
 "nbformat": 4,
 "nbformat_minor": 2
}
