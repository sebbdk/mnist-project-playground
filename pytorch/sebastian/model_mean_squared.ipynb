{
 "cells": [
  {
   "cell_type": "code",
   "execution_count": 1,
   "metadata": {},
   "outputs": [],
   "source": [
    "%reset -f\n",
    "\n",
    "import torch\n",
    "from torch import nn\n",
    "from torch.utils.data import DataLoader\n",
    "from torchvision import datasets\n",
    "from torchvision.transforms import ToTensor, Lambda\n",
    "import matplotlib.pyplot as plt"
   ]
  },
  {
   "cell_type": "code",
   "execution_count": 2,
   "metadata": {},
   "outputs": [],
   "source": [
    "# Parameters to tweak\n",
    "lr = 1e-3\n",
    "batchSize = 10\n",
    "epochs = 10\n",
    "loss_fn = nn.MSELoss()"
   ]
  },
  {
   "cell_type": "code",
   "execution_count": 3,
   "metadata": {},
   "outputs": [],
   "source": [
    "training_data = datasets.MNIST(\n",
    "    root='data',\n",
    "    train=True,\n",
    "    download=True,\n",
    "    transform=ToTensor()\n",
    ")\n",
    "\n",
    "test_data = datasets.MNIST(\n",
    "    root='data',\n",
    "    train=False,\n",
    "    download=True,\n",
    "    transform=ToTensor()\n",
    ")\n",
    "\n",
    "# Create 64 batches\n",
    "train_dataloader = DataLoader(training_data, batch_size=batchSize)\n",
    "test_dataloader = DataLoader(test_data, batch_size=batchSize)\n",
    "#len(test_dataloader)"
   ]
  },
  {
   "cell_type": "code",
   "execution_count": 4,
   "metadata": {},
   "outputs": [
    {
     "data": {
      "text/plain": [
       "'cpu'"
      ]
     },
     "execution_count": 4,
     "metadata": {},
     "output_type": "execute_result"
    }
   ],
   "source": [
    "device = 'cuda' if torch.cuda.is_available() else 'cpu'\n",
    "device"
   ]
  },
  {
   "cell_type": "code",
   "execution_count": 5,
   "metadata": {},
   "outputs": [],
   "source": [
    "class NeuralNetwork(nn.Module):\n",
    "    def __init__(self):\n",
    "        super().__init__()\n",
    "        self.flatten = nn.Flatten()\n",
    "        self.linear_relu_stack = nn.Sequential(\n",
    "            nn.Linear(28*28, 30),\n",
    "            nn.ReLU(),\n",
    "            nn.Linear(30, 10)\n",
    "        )\n",
    "\n",
    "    def forward(self, x):\n",
    "        x = self.flatten(x)\n",
    "        logits = self.linear_relu_stack(x)\n",
    "        return logits"
   ]
  },
  {
   "cell_type": "code",
   "execution_count": 6,
   "metadata": {},
   "outputs": [],
   "source": [
    "def train_data(model, optimizer):\n",
    "    for xb, yb in train_dataloader:\n",
    "        preds = model(xb)\n",
    "        loss = loss_fn(preds, yb.float())\n",
    "        optimizer.zero_grad()\n",
    "        loss.backward()\n",
    "        optimizer.step()\n",
    "    loss = loss.item()\n",
    "    print(f\"Train loss: {loss:>7f}\")"
   ]
  },
  {
   "cell_type": "code",
   "execution_count": 7,
   "metadata": {},
   "outputs": [],
   "source": [
    "def test_data(model):\n",
    "    num_batches = len(test_dataloader)\n",
    "    size = len(test_dataloader.dataset)\n",
    "    test_loss, corrects = 0, 0\n",
    "\n",
    "    with torch.no_grad():\n",
    "        for xb, yb in test_dataloader:\n",
    "            preds = model(xb)\n",
    "            test_loss += loss_fn(preds, yb.float()).item()\n",
    "            corrects += (preds.argmax(1) == yb).type(torch.float).sum().item()\n",
    "\n",
    "    test_loss /= num_batches\n",
    "    # test_loss = lo\n",
    "    ccorrects = corrects/size\n",
    "    print(f\"Test loss: \\n Accuracy: {corrects:>0.0f}/{size} -- {(100*ccorrects):>0.1f}%, Avg loss: {test_loss:>8f} \\n\")"
   ]
  },
  {
   "cell_type": "code",
   "execution_count": 8,
   "metadata": {},
   "outputs": [
    {
     "name": "stderr",
     "output_type": "stream",
     "text": [
      "/Users/vargr/dev/projects/dtu/is_project/.venv/lib/python3.11/site-packages/torch/nn/modules/loss.py:535: UserWarning: Using a target size (torch.Size([10])) that is different to the input size (torch.Size([10, 10])). This will likely lead to incorrect results due to broadcasting. Please ensure they have the same size.\n",
      "  return F.mse_loss(input, target, reduction=self.reduction)\n"
     ]
    },
    {
     "name": "stdout",
     "output_type": "stream",
     "text": [
      "Train loss: 10.017050\n",
      "Test loss: \n",
      " Accuracy: 990/10000 -- 9.9%, Avg loss: 8.402923 \n",
      "\n",
      "Train loss: 9.889246\n",
      "Test loss: \n",
      " Accuracy: 1002/10000 -- 10.0%, Avg loss: 8.379807 \n",
      "\n",
      "Train loss: 9.756571\n",
      "Test loss: \n",
      " Accuracy: 1012/10000 -- 10.1%, Avg loss: 8.367961 \n",
      "\n",
      "Train loss: 9.639503\n",
      "Test loss: \n",
      " Accuracy: 1021/10000 -- 10.2%, Avg loss: 8.360755 \n",
      "\n",
      "Train loss: 9.542848\n",
      "Test loss: \n",
      " Accuracy: 1028/10000 -- 10.3%, Avg loss: 8.356252 \n",
      "\n",
      "Train loss: 9.466784\n",
      "Test loss: \n",
      " Accuracy: 1055/10000 -- 10.5%, Avg loss: 8.353523 \n",
      "\n",
      "Train loss: 9.409163\n",
      "Test loss: \n",
      " Accuracy: 1077/10000 -- 10.8%, Avg loss: 8.351935 \n",
      "\n",
      "Train loss: 9.366726\n",
      "Test loss: \n",
      " Accuracy: 1109/10000 -- 11.1%, Avg loss: 8.351057 \n",
      "\n",
      "Train loss: 9.336041\n",
      "Test loss: \n",
      " Accuracy: 1133/10000 -- 11.3%, Avg loss: 8.350618 \n",
      "\n",
      "Train loss: 9.314106\n",
      "Test loss: \n",
      " Accuracy: 1158/10000 -- 11.6%, Avg loss: 8.350451 \n",
      "\n"
     ]
    }
   ],
   "source": [
    "model = NeuralNetwork().to(device)\n",
    "optimizer = torch.optim.SGD(model.parameters(), lr=lr)\n",
    "\n",
    "for t in range(epochs):\n",
    "    train_data(model, optimizer)\n",
    "    test_data(model)"
   ]
  }
 ],
 "metadata": {
  "kernelspec": {
   "display_name": ".venv",
   "language": "python",
   "name": "python3"
  },
  "language_info": {
   "codemirror_mode": {
    "name": "ipython",
    "version": 3
   },
   "file_extension": ".py",
   "mimetype": "text/x-python",
   "name": "python",
   "nbconvert_exporter": "python",
   "pygments_lexer": "ipython3",
   "version": "3.11.5"
  }
 },
 "nbformat": 4,
 "nbformat_minor": 2
}
