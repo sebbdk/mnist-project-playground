{
 "cells": [
  {
   "cell_type": "code",
   "execution_count": 1,
   "metadata": {},
   "outputs": [],
   "source": [
    "%reset -f\n",
    "\n",
    "import torch\n",
    "from torch import nn\n",
    "from torch.utils.data import DataLoader\n",
    "from torchvision import datasets\n",
    "from torchvision.transforms import ToTensor, Lambda\n",
    "import matplotlib.pyplot as plt\n",
    "import tools\n",
    "import time "
   ]
  },
  {
   "cell_type": "code",
   "execution_count": 2,
   "metadata": {},
   "outputs": [],
   "source": [
    "# Parameters to tweak\n",
    "lr = 1e-3\n",
    "batchSize = 64\n",
    "epochs = 30\n",
    "loss_fn = nn.CrossEntropyLoss()"
   ]
  },
  {
   "cell_type": "code",
   "execution_count": 3,
   "metadata": {},
   "outputs": [
    {
     "data": {
      "text/plain": [
       "938"
      ]
     },
     "execution_count": 3,
     "metadata": {},
     "output_type": "execute_result"
    }
   ],
   "source": [
    "training_data = datasets.MNIST(\n",
    "    root='data',\n",
    "    train=True,\n",
    "    download=True,\n",
    "    transform=ToTensor()\n",
    ")\n",
    "\n",
    "test_data = datasets.MNIST(\n",
    "    root='data',\n",
    "    train=False,\n",
    "    download=True,\n",
    "    transform=ToTensor()\n",
    ")\n",
    "\n",
    "# Create 64 batches\n",
    "train_dataloader = DataLoader(training_data, batch_size=batchSize)\n",
    "test_dataloader = DataLoader(test_data, batch_size=batchSize)\n",
    "len(train_dataloader)"
   ]
  },
  {
   "cell_type": "code",
   "execution_count": 4,
   "metadata": {},
   "outputs": [
    {
     "data": {
      "text/plain": [
       "'cpu'"
      ]
     },
     "execution_count": 4,
     "metadata": {},
     "output_type": "execute_result"
    }
   ],
   "source": [
    "device = 'cuda' if torch.cuda.is_available() else 'cpu'\n",
    "device"
   ]
  },
  {
   "cell_type": "code",
   "execution_count": 5,
   "metadata": {},
   "outputs": [],
   "source": [
    "class NeuralNetwork(nn.Module):\n",
    "    def __init__(self):\n",
    "        super().__init__()\n",
    "        self.flatten = nn.Flatten()\n",
    "        self.linear_relu_stack = nn.Sequential(\n",
    "            nn.Linear(28*28, 512),\n",
    "            nn.ReLU(),\n",
    "            nn.Linear(512, 10)\n",
    "        )\n",
    "\n",
    "    def forward(self, x):\n",
    "        x = self.flatten(x)\n",
    "        logits = self.linear_relu_stack(x)\n",
    "        return logits"
   ]
  },
  {
   "cell_type": "code",
   "execution_count": 6,
   "metadata": {},
   "outputs": [],
   "source": [
    "def train_data(model, optimizer):\n",
    "    for xb, yb in train_dataloader:\n",
    "        preds = model(xb)\n",
    "        loss = loss_fn(preds, yb)\n",
    "        optimizer.zero_grad()\n",
    "        loss.backward()\n",
    "        optimizer.step()\n",
    "    loss = loss.item()\n",
    "    #print(f\"Train loss: {loss:>7f}\")"
   ]
  },
  {
   "cell_type": "code",
   "execution_count": 7,
   "metadata": {},
   "outputs": [],
   "source": [
    "def test_data(model):\n",
    "    num_batches = len(test_dataloader)\n",
    "    size = len(test_dataloader.dataset)\n",
    "    test_loss, corrects = 0, 0\n",
    "\n",
    "# test_results = [(np.argmax(self.feedforward(x)), y)\n",
    "#                        for (x, y) in test_data]\n",
    "\n",
    "    with torch.no_grad():\n",
    "        for xb, yb in test_dataloader:\n",
    "            preds = model(xb)\n",
    "            test_loss += loss_fn(preds, yb).item()\n",
    "            corrects += (preds.argmax(1) == yb).type(torch.float).sum().item()\n",
    "\n",
    "    test_loss /= num_batches\n",
    "    # test_loss = lo\n",
    "    corrects /= size\n",
    "\n",
    "    print(f\"Accuracy: {(100*corrects):>0.1f}%, Avg loss: {test_loss:>8f}\")\n",
    "    return corrects"
   ]
  },
  {
   "cell_type": "code",
   "execution_count": 8,
   "metadata": {},
   "outputs": [
    {
     "name": "stdout",
     "output_type": "stream",
     "text": [
      "Started run 0 / 33\n",
      "Accuracy: 64.6%, Avg loss: 2.036152\n",
      "Accuracy: 74.7%, Avg loss: 1.715983\n",
      "Accuracy: 78.6%, Avg loss: 1.375053\n",
      "Accuracy: 81.1%, Avg loss: 1.102060\n",
      "Accuracy: 82.8%, Avg loss: 0.914699\n",
      "Accuracy: 84.3%, Avg loss: 0.788704\n",
      "Accuracy: 85.2%, Avg loss: 0.701064\n",
      "Accuracy: 86.0%, Avg loss: 0.637357\n",
      "Accuracy: 86.7%, Avg loss: 0.589176\n",
      "Accuracy: 87.0%, Avg loss: 0.551528\n",
      "Accuracy: 87.4%, Avg loss: 0.521328\n",
      "Accuracy: 87.8%, Avg loss: 0.496588\n",
      "Accuracy: 88.1%, Avg loss: 0.475965\n",
      "Accuracy: 88.4%, Avg loss: 0.458519\n",
      "Accuracy: 88.7%, Avg loss: 0.443573\n",
      "Accuracy: 89.0%, Avg loss: 0.430625\n",
      "Accuracy: 89.1%, Avg loss: 0.419298\n",
      "Accuracy: 89.2%, Avg loss: 0.409301\n",
      "Accuracy: 89.5%, Avg loss: 0.400409\n",
      "Accuracy: 89.6%, Avg loss: 0.392440\n",
      "Accuracy: 89.7%, Avg loss: 0.385251\n",
      "Accuracy: 89.8%, Avg loss: 0.378726\n",
      "Accuracy: 89.9%, Avg loss: 0.372771\n",
      "Accuracy: 90.0%, Avg loss: 0.367308\n",
      "Accuracy: 90.1%, Avg loss: 0.362271\n",
      "Accuracy: 90.2%, Avg loss: 0.357607\n",
      "Accuracy: 90.3%, Avg loss: 0.353270\n",
      "Accuracy: 90.4%, Avg loss: 0.349222\n",
      "Accuracy: 90.4%, Avg loss: 0.345427\n",
      "Accuracy: 90.5%, Avg loss: 0.341859\n",
      "Started run 1 / 33\n",
      "Accuracy: 65.8%, Avg loss: 2.066648\n",
      "Accuracy: 74.0%, Avg loss: 1.762344\n",
      "Accuracy: 77.4%, Avg loss: 1.425479\n",
      "Accuracy: 80.6%, Avg loss: 1.144439\n",
      "Accuracy: 82.6%, Avg loss: 0.946434\n",
      "Accuracy: 83.9%, Avg loss: 0.811875\n",
      "Accuracy: 84.9%, Avg loss: 0.718102\n",
      "Accuracy: 85.8%, Avg loss: 0.650102\n",
      "Accuracy: 86.5%, Avg loss: 0.598907\n",
      "Accuracy: 87.0%, Avg loss: 0.559124\n",
      "Accuracy: 87.5%, Avg loss: 0.527398\n",
      "Accuracy: 87.9%, Avg loss: 0.501548\n",
      "Accuracy: 88.2%, Avg loss: 0.480104\n",
      "Accuracy: 88.5%, Avg loss: 0.462041\n",
      "Accuracy: 88.8%, Avg loss: 0.446624\n",
      "Accuracy: 89.0%, Avg loss: 0.433312\n",
      "Accuracy: 89.2%, Avg loss: 0.421700\n",
      "Accuracy: 89.3%, Avg loss: 0.411474\n",
      "Accuracy: 89.4%, Avg loss: 0.402392\n",
      "Accuracy: 89.6%, Avg loss: 0.394267\n",
      "Accuracy: 89.8%, Avg loss: 0.386946\n",
      "Accuracy: 89.8%, Avg loss: 0.380307\n",
      "Accuracy: 90.0%, Avg loss: 0.374251\n",
      "Accuracy: 90.1%, Avg loss: 0.368698\n",
      "Accuracy: 90.2%, Avg loss: 0.363579\n",
      "Accuracy: 90.3%, Avg loss: 0.358843\n",
      "Accuracy: 90.3%, Avg loss: 0.354441\n",
      "Accuracy: 90.4%, Avg loss: 0.350334\n",
      "Accuracy: 90.4%, Avg loss: 0.346491\n",
      "Accuracy: 90.4%, Avg loss: 0.342875\n",
      "Started run 2 / 33\n",
      "Accuracy: 66.5%, Avg loss: 2.036976\n",
      "Accuracy: 73.6%, Avg loss: 1.718288\n",
      "Accuracy: 77.4%, Avg loss: 1.381261\n",
      "Accuracy: 80.6%, Avg loss: 1.110960\n",
      "Accuracy: 82.8%, Avg loss: 0.923650\n",
      "Accuracy: 84.1%, Avg loss: 0.796608\n",
      "Accuracy: 85.0%, Avg loss: 0.707771\n",
      "Accuracy: 85.8%, Avg loss: 0.643021\n",
      "Accuracy: 86.3%, Avg loss: 0.593985\n",
      "Accuracy: 87.0%, Avg loss: 0.555649\n",
      "Accuracy: 87.3%, Avg loss: 0.524887\n",
      "Accuracy: 87.8%, Avg loss: 0.499684\n",
      "Accuracy: 88.1%, Avg loss: 0.478670\n",
      "Accuracy: 88.4%, Avg loss: 0.460895\n",
      "Accuracy: 88.7%, Avg loss: 0.445672\n",
      "Accuracy: 88.8%, Avg loss: 0.432491\n",
      "Accuracy: 89.0%, Avg loss: 0.420967\n",
      "Accuracy: 89.2%, Avg loss: 0.410804\n",
      "Accuracy: 89.5%, Avg loss: 0.401770\n",
      "Accuracy: 89.7%, Avg loss: 0.393684\n",
      "Accuracy: 89.7%, Avg loss: 0.386394\n",
      "Accuracy: 89.8%, Avg loss: 0.379785\n",
      "Accuracy: 89.8%, Avg loss: 0.373759\n",
      "Accuracy: 89.9%, Avg loss: 0.368235\n",
      "Accuracy: 90.0%, Avg loss: 0.363146\n",
      "Accuracy: 90.0%, Avg loss: 0.358439\n",
      "Accuracy: 90.1%, Avg loss: 0.354066\n",
      "Accuracy: 90.2%, Avg loss: 0.349988\n",
      "Accuracy: 90.3%, Avg loss: 0.346172\n",
      "Accuracy: 90.4%, Avg loss: 0.342590\n",
      "Started run 3 / 33\n",
      "Accuracy: 66.2%, Avg loss: 2.076671\n",
      "Accuracy: 74.4%, Avg loss: 1.778665\n",
      "Accuracy: 77.8%, Avg loss: 1.440808\n",
      "Accuracy: 80.7%, Avg loss: 1.153985\n",
      "Accuracy: 82.7%, Avg loss: 0.951271\n",
      "Accuracy: 83.9%, Avg loss: 0.814241\n",
      "Accuracy: 85.0%, Avg loss: 0.719401\n",
      "Accuracy: 85.9%, Avg loss: 0.651023\n",
      "Accuracy: 86.5%, Avg loss: 0.599716\n",
      "Accuracy: 87.0%, Avg loss: 0.559893\n",
      "Accuracy: 87.4%, Avg loss: 0.528126\n",
      "Accuracy: 87.7%, Avg loss: 0.502209\n",
      "Accuracy: 88.1%, Avg loss: 0.480680\n",
      "Accuracy: 88.5%, Avg loss: 0.462527\n",
      "Accuracy: 88.7%, Avg loss: 0.447016\n",
      "Accuracy: 88.8%, Avg loss: 0.433614\n",
      "Accuracy: 89.0%, Avg loss: 0.421918\n",
      "Accuracy: 89.3%, Avg loss: 0.411619\n",
      "Accuracy: 89.4%, Avg loss: 0.402476\n"
     ]
    }
   ],
   "source": [
    "epoch_pro = []\n",
    "epoch_performance = []\n",
    "for n in range(0, 33):\n",
    "    print(f\"Started run {n} / {33}\")\n",
    "\n",
    "    model = NeuralNetwork().to(device)\n",
    "    optimizer = torch.optim.SGD(model.parameters(), lr=lr)\n",
    "\n",
    "    for t in range(epochs):\n",
    "        start_time = time.time()\n",
    "\n",
    "        train_data(model, optimizer)\n",
    "        epoch_pro.append(test_data(model))\n",
    "        epoch_performance.append(time.time()-start_time)"
   ]
  },
  {
   "cell_type": "code",
   "execution_count": null,
   "metadata": {},
   "outputs": [],
   "source": [
    "tools.saveResult(epochs,lr,\"crossentropyloss\",batchSize,epoch_pro,epoch_performance, \"model_cross_entropy_relu_mandag\")"
   ]
  }
 ],
 "metadata": {
  "kernelspec": {
   "display_name": ".venv",
   "language": "python",
   "name": "python3"
  },
  "language_info": {
   "codemirror_mode": {
    "name": "ipython",
    "version": 3
   },
   "file_extension": ".py",
   "mimetype": "text/x-python",
   "name": "python",
   "nbconvert_exporter": "python",
   "pygments_lexer": "ipython3",
   "version": "3.11.5"
  }
 },
 "nbformat": 4,
 "nbformat_minor": 2
}
